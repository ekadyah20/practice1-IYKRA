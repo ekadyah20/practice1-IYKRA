{
 "cells": [
  {
   "cell_type": "code",
   "execution_count": null,
   "metadata": {},
   "outputs": [],
   "source": []
  }
 ],
 "metadata": {
  "kernelspec": {
   "display_name": "Python 3.10.8 64-bit (microsoft store)",
   "language": "python",
   "name": "python3"
  },
  "language_info": {
   "name": "python",
   "version": "3.10.8"
  },
  "orig_nbformat": 4,
  "vscode": {
   "interpreter": {
    "hash": "3c053e69dbf2c3a71a0c6689ab860ea87183eb35c9c50bec1dd868b5b4a20135"
   }
  }
 },
 "nbformat": 4,
 "nbformat_minor": 2
}
